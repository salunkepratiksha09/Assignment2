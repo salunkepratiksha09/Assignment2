{
 "cells": [
  {
   "cell_type": "markdown",
   "id": "e660cbe9",
   "metadata": {},
   "source": [
    "### 1.What are the two values of the Boolean data type? How do you write them?"
   ]
  },
  {
   "cell_type": "markdown",
   "id": "008e0213",
   "metadata": {},
   "source": [
    "The Boolean data type represents two values: true and false. In programming, these values are typically written as \"true\" and \"false\", respectively. Boolean values are used to perform logical operations, make decisions, and control the flow of programs."
   ]
  },
  {
   "cell_type": "markdown",
   "id": "23d407e6",
   "metadata": {},
   "source": [
    "### 2. What are the three different types of Boolean operators?"
   ]
  },
  {
   "cell_type": "markdown",
   "id": "798b2ba9",
   "metadata": {},
   "source": [
    "AND operator: It is represented by the symbol \"&&\" or the keyword \"AND\". It returns true if both operands are true; otherwise, it returns false.\n",
    "    \n",
    "OR operator: It is represented by the symbol \"||\" or the keyword \"OR\". It returns true if at least one of the operands is true; otherwise, it returns false.\n",
    "        \n",
    "NOT operator: It is represented by the symbol \"!\" or the keyword \"NOT\". It returns the opposite boolean value of the operand. If the operand is true, it returns false, and if the operand is false, it returns true"
   ]
  },
  {
   "cell_type": "markdown",
   "id": "20a50f6d",
   "metadata": {},
   "source": [
    "### 3. Make a list of each Boolean operator's truth tables (i.e. every possible combination of Boolean values for the operator and what it evaluate )."
   ]
  },
  {
   "cell_type": "markdown",
   "id": "49775d30",
   "metadata": {},
   "source": [
    "### 4. What are the values of the following expressions?\n",
    "\n",
    "(5 > 4) and (3 == 5)\n",
    "\n",
    "not (5 > 4)\n",
    "\n",
    "(5 > 4) or (3 == 5)\n",
    "\n",
    "not ((5 > 4) or (3 == 5))\n",
    "\n",
    "(True and True) and (True == False)\n",
    "\n",
    "(not False) or (not True)\n"
   ]
  },
  {
   "cell_type": "markdown",
   "id": "31ac7f27",
   "metadata": {},
   "source": [
    "1.(5 > 4) and (3 == 5) evaluates to false.\n",
    "\n",
    "2.not (5 > 4) evaluates to false.\n",
    "\n",
    "3.(5 > 4) or (3 == 5) evaluates to true.\n",
    "\n",
    "4.not ((5 > 4) or (3 == 5)) evaluates to false.\n",
    "\n",
    "5.(True and True) and (True == False) evaluates to false.\n",
    "\n",
    "6.(not False) or (not True) evaluates to true."
   ]
  },
  {
   "cell_type": "markdown",
   "id": "c764832b",
   "metadata": {},
   "source": [
    "### 5. What are the six comparison operators?"
   ]
  },
  {
   "cell_type": "markdown",
   "id": "2854fe4e",
   "metadata": {},
   "source": [
    "\n",
    "Equal to (==): Checks if two values are equal\n",
    "\n",
    "Not equal to (!=): Checks if two values are not equal.\n",
    "\n",
    "Greater than (>): Checks if the left operand is greater than the right operand.\n",
    "\n",
    "Less than (<): Checks if the left operand is less than the right operand.\n",
    "\n",
    "Greater than or equal to (>=): Checks if the left operand is greater than or equal to the right operand.\n",
    "\n",
    "Less than or equal to (<=): Checks if the left operand is less than or equal to the right operand."
   ]
  },
  {
   "cell_type": "markdown",
   "id": "f0ca346e",
   "metadata": {},
   "source": [
    "### 6. How do you tell the difference between the equal to and assignment operators?Describe a condition and when you would use one."
   ]
  },
  {
   "cell_type": "markdown",
   "id": "dcc73561",
   "metadata": {},
   "source": [
    "The equal to operator (==) is used for comparison, while the assignment operator (=) is used for assigning values to variables."
   ]
  },
  {
   "cell_type": "markdown",
   "id": "826cb4c1",
   "metadata": {},
   "source": [
    "### 7. Identify the three blocks in this code:\n",
    "\n"
   ]
  },
  {
   "cell_type": "markdown",
   "id": "281917c9",
   "metadata": {},
   "source": [
    "\n",
    "spam = 0\n",
    "\n",
    "if spam == 10:\n",
    "\n",
    "print('eggs')\n",
    "\n",
    "if spam > 5:\n",
    "\n",
    "print('bacon')\n",
    "\n",
    "else:\n",
    "\n",
    "print('ham')\n",
    "\n",
    "print('spam')\n",
    "\n",
    "print('spam')\n"
   ]
  },
  {
   "cell_type": "code",
   "execution_count": 14,
   "id": "1335bd51",
   "metadata": {},
   "outputs": [
    {
     "name": "stdout",
     "output_type": "stream",
     "text": [
      "ham\n"
     ]
    }
   ],
   "source": [
    "spam = 0\n",
    "if spam == 10:\n",
    "    print('eggs')\n",
    "else:\n",
    "    print('ham')\n"
   ]
  },
  {
   "cell_type": "code",
   "execution_count": 16,
   "id": "0d4f5a7c",
   "metadata": {},
   "outputs": [
    {
     "name": "stdout",
     "output_type": "stream",
     "text": [
      "spam\n"
     ]
    }
   ],
   "source": [
    "if spam > 5:\n",
    "      print('bacon')\n",
    "else:\n",
    "    print('spam')\n",
    "\n"
   ]
  },
  {
   "cell_type": "markdown",
   "id": "84a88ed4",
   "metadata": {},
   "source": [
    "### 8. Write code that prints Hello if 1 is stored in spam, prints Howdy if 2 is stored in spam, and prints Greetings! if anything else is stored in spam.\n",
    "\n"
   ]
  },
  {
   "cell_type": "code",
   "execution_count": 27,
   "id": "7a5fb855",
   "metadata": {},
   "outputs": [
    {
     "name": "stdout",
     "output_type": "stream",
     "text": [
      "Greetings!\n"
     ]
    }
   ],
   "source": [
    "spam=5\n",
    "if spam==1:\n",
    "    print('Hello')\n",
    "elif spam==2:\n",
    "     print(\"Howdy\")\n",
    "else:\n",
    "     print('Greetings!')"
   ]
  },
  {
   "cell_type": "markdown",
   "id": "6b524c45",
   "metadata": {},
   "source": [
    "### 9.If your programme is stuck in an endless loop, what keys you’ll press?"
   ]
  },
  {
   "cell_type": "markdown",
   "id": "30b3d18f",
   "metadata": {},
   "source": [
    "You can stop an infinite loop with CTRL+C"
   ]
  },
  {
   "cell_type": "markdown",
   "id": "dd557298",
   "metadata": {},
   "source": [
    "### 10. How can you tell the difference between break and continue?"
   ]
  },
  {
   "cell_type": "markdown",
   "id": "2fe75745",
   "metadata": {},
   "source": [
    "The \"break\" statement terminates the loop entirely.\n",
    "\n",
    "The \"continue\" statement skips the remaining code in the current iteration and moves to the next iteration."
   ]
  },
  {
   "cell_type": "markdown",
   "id": "e61fde7f",
   "metadata": {},
   "source": [
    "### 11. In a for loop, what is the difference between range(10), range(0, 10), and range(0, 10, 1)?"
   ]
  },
  {
   "cell_type": "markdown",
   "id": "d811dab7",
   "metadata": {},
   "source": [
    "range(10): This expression creates a sequence of numbers starting from 0 and ending at 9 (10 numbers in total). The starting value is omitted, and by default, it assumes a starting value of 0"
   ]
  },
  {
   "cell_type": "markdown",
   "id": "61adedb3",
   "metadata": {},
   "source": [
    "range(0, 10): This expression creates a sequence of numbers starting from 0 and ending at 9 (10 numbers in total). Both the starting value and the ending value are explicitly specified. "
   ]
  },
  {
   "cell_type": "markdown",
   "id": "f6893439",
   "metadata": {},
   "source": [
    "range(0, 10, 1): This expression creates a sequence of numbers starting from 0 and ending at 9 (10 numbers in total) with a step size of 1. The step size determines the difference between consecutive numbers in the sequence. Since the step size is 1, the numbers will be generated incrementally by 1."
   ]
  },
  {
   "cell_type": "code",
   "execution_count": 32,
   "id": "805d11dc",
   "metadata": {},
   "outputs": [
    {
     "name": "stdout",
     "output_type": "stream",
     "text": [
      "0\n",
      "1\n",
      "2\n",
      "3\n",
      "4\n",
      "5\n",
      "6\n",
      "7\n",
      "8\n",
      "9\n"
     ]
    }
   ],
   "source": [
    "for i in range(10):\n",
    "    print(i)"
   ]
  },
  {
   "cell_type": "code",
   "execution_count": 31,
   "id": "9d5c60d5",
   "metadata": {},
   "outputs": [
    {
     "name": "stdout",
     "output_type": "stream",
     "text": [
      "0\n",
      "1\n",
      "2\n",
      "3\n",
      "4\n",
      "5\n",
      "6\n",
      "7\n",
      "8\n",
      "9\n"
     ]
    }
   ],
   "source": [
    "for i in range(0, 10):\n",
    "    print(i)"
   ]
  },
  {
   "cell_type": "code",
   "execution_count": 30,
   "id": "12683361",
   "metadata": {},
   "outputs": [
    {
     "name": "stdout",
     "output_type": "stream",
     "text": [
      "0\n",
      "1\n",
      "2\n",
      "3\n",
      "4\n",
      "5\n",
      "6\n",
      "7\n",
      "8\n",
      "9\n"
     ]
    }
   ],
   "source": [
    "for i in range(0, 10, 1):\n",
    "    print(i)"
   ]
  },
  {
   "cell_type": "markdown",
   "id": "389bb042",
   "metadata": {},
   "source": [
    "### 12. Write a short program that prints the numbers 1 to 10 using a for loop. Then write an equivalent program that prints the numbers 1 to 10 using a while loop."
   ]
  },
  {
   "cell_type": "code",
   "execution_count": 36,
   "id": "75d5b0df",
   "metadata": {},
   "outputs": [
    {
     "name": "stdout",
     "output_type": "stream",
     "text": [
      "1\n",
      "2\n",
      "3\n",
      "4\n",
      "5\n",
      "6\n",
      "7\n",
      "8\n",
      "9\n",
      "10\n"
     ]
    }
   ],
   "source": [
    "for i in range(1, 11):\n",
    "    print(i)"
   ]
  },
  {
   "cell_type": "code",
   "execution_count": 37,
   "id": "b08fb816",
   "metadata": {},
   "outputs": [
    {
     "name": "stdout",
     "output_type": "stream",
     "text": [
      "1\n",
      "2\n",
      "3\n",
      "4\n",
      "5\n",
      "6\n",
      "7\n",
      "8\n",
      "9\n",
      "10\n"
     ]
    }
   ],
   "source": [
    "i = 1\n",
    "while i <= 10:\n",
    "    print(i)\n",
    "    i += 1"
   ]
  },
  {
   "cell_type": "markdown",
   "id": "46ea12bb",
   "metadata": {},
   "source": [
    "### 13. If you had a function named bacon() inside a module named spam, how would you call it after importing spam?\n",
    "\n"
   ]
  }
 ],
 "metadata": {
  "kernelspec": {
   "display_name": "Python 3 (ipykernel)",
   "language": "python",
   "name": "python3"
  },
  "language_info": {
   "codemirror_mode": {
    "name": "ipython",
    "version": 3
   },
   "file_extension": ".py",
   "mimetype": "text/x-python",
   "name": "python",
   "nbconvert_exporter": "python",
   "pygments_lexer": "ipython3",
   "version": "3.9.7"
  }
 },
 "nbformat": 4,
 "nbformat_minor": 5
}
